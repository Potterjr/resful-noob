{
 "cells": [
  {
   "cell_type": "code",
   "execution_count": 2,
   "id": "bf4f04cb-1812-4001-a4c3-64d6a362164f",
   "metadata": {},
   "outputs": [],
   "source": [
    "import sqlite3\n",
    "connection = sqlite3.connect('book.db')\n",
    "with open('schema.sql') as f:\n",
    "    connection.executescript(f.read())\n",
    "cur = connection.cursor()\n",
    "\n",
    "cur.execute(\"INSERT INTO book (id,title,author) VALUES (?,?,?)\",\n",
    "            ('1111','a','b'))\n",
    "cur.execute(\"INSERT INTO book (id,title,author) VALUES (?,?,?)\",\n",
    "            ('2222','c','d'))\n",
    "\n",
    "connection.commit()\n",
    "connection.close()"
   ]
  },
  {
   "cell_type": "code",
   "execution_count": null,
   "id": "bd20b20c-4192-4ea3-ba10-6b7ccaba4022",
   "metadata": {},
   "outputs": [],
   "source": []
  }
 ],
 "metadata": {
  "kernelspec": {
   "display_name": "Python 3",
   "language": "python",
   "name": "python3"
  },
  "language_info": {
   "codemirror_mode": {
    "name": "ipython",
    "version": 3
   },
   "file_extension": ".py",
   "mimetype": "text/x-python",
   "name": "python",
   "nbconvert_exporter": "python",
   "pygments_lexer": "ipython3",
   "version": "3.8.8"
  }
 },
 "nbformat": 4,
 "nbformat_minor": 5
}
