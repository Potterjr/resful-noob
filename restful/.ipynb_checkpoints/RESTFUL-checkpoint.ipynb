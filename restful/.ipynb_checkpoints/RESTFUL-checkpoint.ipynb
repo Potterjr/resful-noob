{
 "cells": [
  {
   "cell_type": "code",
   "execution_count": 3,
   "id": "33e9efd0-be31-45a9-8dc1-b0e75a4e6a64",
   "metadata": {},
   "outputs": [],
   "source": [
    "import json\n",
    "import sqlite3\n",
    "from flask import Flask, jsonify, request, Blueprint\n",
    "app = Flask(__name__)\n",
    "\n",
    "#GET - get data\n",
    "#PUT - replace data\n",
    "#POST - create data\n",
    "#DELETE - delete data\n",
    "def dict_factory(cursor, row):\n",
    "    d = {}\n",
    "    for idx, col in enumerate(cursor.description):\n",
    "        d[col[0]] = row[idx]\n",
    "    return d\n",
    "\n",
    "@app.route('/')\n",
    "def hello():\n",
    "    return \"hello\"\n",
    "\n",
    "@app.route('/api/v1/books/all', methods=['GET'])\n",
    "def api_all():\n",
    "    conn = sqlite3.connect('book.db')\n",
    "    conn.row_factory = dict_factory\n",
    "    books = conn.execute(\"SELECT * FROM book\").fetchall()\n",
    "    conn.close()\n",
    "    return jsonify(books)\n",
    "\n",
    "@app.route('/api/v1/books/<id>', methods=['GET'])\n",
    "def api_get(id):\n",
    "    conn = sqlite3.connect('book.db')\n",
    "    query = \"SELECT * FROM book WHERE id={}\".format(id)\n",
    "    books = conn.execute(query).fetchall()\n",
    "    conn.close()\n",
    "    if books:\n",
    "        return jsonify(books)\n",
    "    else:\n",
    "        return \"Book not found\"\n",
    "\n",
    "@app.route('/api/v1/books', methods=['POST'])\n",
    "def api_post():\n",
    "    conn = sqlite3.connect('book.db')\n",
    "    query_parameters = request.args\n",
    "    q = str(request.data)\n",
    "    q = q[2:-1]\n",
    "    q = json.loads(q)\n",
    "    id = q[\"id\"]\n",
    "    title = q[\"title\"]\n",
    "    author = q[\"author\"]\n",
    "    query = \"INSERT INTO book (id,title,author) VALUES ({},'{}','{}')\".format(id,title,author)\n",
    "    conn.execute(query)\n",
    "    conn.commit()\n",
    "    conn.close()\n",
    "    return \"Data inserted: id={} title={} author={}\".format(id,title,author)\n",
    "\n",
    "@app.route('/api/v1/books/upd', methods=['PUT','POST'])\n",
    "def api_upd():\n",
    "    conn = sqlite3.connect('book.db')\n",
    "    query_parameters = request.args\n",
    "    id = query_parameters.get('id')\n",
    "    title = query_parameters.get('title')\n",
    "    author = query_parameters.get('author')\n",
    "    query = \"UPDATE book SET\"\n",
    "    if title :\n",
    "        query += \" title='\" + format(title) + \"',\"\n",
    "    if author:\n",
    "        query += \"author='\" + format(author) + \"',\"\n",
    "    query = query[:-1] + \" WHERE id=\" + format(id)\n",
    "    conn.execute(query)\n",
    "    conn.commit()\n",
    "    conn.close()\n",
    "    return \"Update at {} to name:{} author:{}\".format(id,title,author)\n",
    "\n",
    "@app.route('/api/v1/books/del/<id>', methods=['GET'])\n",
    "def api_del(id):\n",
    "    conn = sqlite3.connect('book.db')\n",
    "    #query_parameters = request.args\n",
    "    #id = query_parameters.get('id')\n",
    "    query = \"DELETE FROM book WHERE id={}\".format(id)\n",
    "    conn.execute(query)\n",
    "    conn.commit()\n",
    "    conn.close()\n",
    "    return \"{} Deleted\".format(id)\n"
   ]
  },
  {
   "cell_type": "code",
   "execution_count": null,
   "id": "13aab676-48dd-4a8c-9ed5-ebe2e71b5937",
   "metadata": {},
   "outputs": [
    {
     "name": "stderr",
     "output_type": "stream",
     "text": [
      " * Running on http://localhost:22135/ (Press CTRL+C to quit)\n",
      "127.0.0.1 - - [22/Nov/2021 08:29:13] \"\u001b[37mGET / HTTP/1.1\u001b[0m\" 200 -\n",
      "127.0.0.1 - - [22/Nov/2021 08:29:32] \"\u001b[37mGET /api/v1/books/all HTTP/1.1\u001b[0m\" 200 -\n"
     ]
    }
   ],
   "source": [
    "if __name__ == '__main__':\n",
    "    from werkzeug.serving import run_simple\n",
    "    run_simple('localhost',22135,app)"
   ]
  },
  {
   "cell_type": "code",
   "execution_count": null,
   "id": "b10771d6-38e6-4cd3-8e96-7b051e83ad5b",
   "metadata": {},
   "outputs": [],
   "source": []
  }
 ],
 "metadata": {
  "kernelspec": {
   "display_name": "Python 3",
   "language": "python",
   "name": "python3"
  },
  "language_info": {
   "codemirror_mode": {
    "name": "ipython",
    "version": 3
   },
   "file_extension": ".py",
   "mimetype": "text/x-python",
   "name": "python",
   "nbconvert_exporter": "python",
   "pygments_lexer": "ipython3",
   "version": "3.8.8"
  }
 },
 "nbformat": 4,
 "nbformat_minor": 5
}
